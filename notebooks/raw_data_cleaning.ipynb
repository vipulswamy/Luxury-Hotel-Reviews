{
 "cells": [
  {
   "cell_type": "code",
   "execution_count": 1,
   "id": "d980787e",
   "metadata": {},
   "outputs": [],
   "source": [
    "import numpy as np\n",
    "import pandas as pd\n",
    "from bs4 import BeautifulSoup\n",
    "import matplotlib.pyplot as plt\n",
    "import seaborn as sns\n",
    "import pprint\n",
    "import re"
   ]
  },
  {
   "cell_type": "code",
   "execution_count": 2,
   "id": "25fd071c",
   "metadata": {},
   "outputs": [
    {
     "name": "stdout",
     "output_type": "stream",
     "text": [
      "<class 'pandas.core.frame.DataFrame'>\n",
      "RangeIndex: 515738 entries, 0 to 515737\n",
      "Data columns (total 17 columns):\n",
      " #   Column                                      Non-Null Count   Dtype  \n",
      "---  ------                                      --------------   -----  \n",
      " 0   Hotel_Address                               515738 non-null  object \n",
      " 1   Additional_Number_of_Scoring                515738 non-null  int64  \n",
      " 2   Review_Date                                 515738 non-null  object \n",
      " 3   Average_Score                               515738 non-null  float64\n",
      " 4   Hotel_Name                                  515738 non-null  object \n",
      " 5   Reviewer_Nationality                        515738 non-null  object \n",
      " 6   Negative_Review                             515738 non-null  object \n",
      " 7   Review_Total_Negative_Word_Counts           515738 non-null  int64  \n",
      " 8   Total_Number_of_Reviews                     515738 non-null  int64  \n",
      " 9   Positive_Review                             515738 non-null  object \n",
      " 10  Review_Total_Positive_Word_Counts           515738 non-null  int64  \n",
      " 11  Total_Number_of_Reviews_Reviewer_Has_Given  515738 non-null  int64  \n",
      " 12  Reviewer_Score                              515738 non-null  float64\n",
      " 13  Tags                                        515738 non-null  object \n",
      " 14  days_since_review                           515738 non-null  object \n",
      " 15  lat                                         512470 non-null  float64\n",
      " 16  lng                                         512470 non-null  float64\n",
      "dtypes: float64(4), int64(5), object(8)\n",
      "memory usage: 66.9+ MB\n"
     ]
    }
   ],
   "source": [
    "data = pd.read_csv(\"Hotel_reviews.csv\")\n",
    "data.info()"
   ]
  },
  {
   "cell_type": "code",
   "execution_count": 3,
   "id": "6b1ef13a",
   "metadata": {},
   "outputs": [
    {
     "data": {
      "text/plain": [
       "(515738, 17)"
      ]
     },
     "execution_count": 3,
     "metadata": {},
     "output_type": "execute_result"
    }
   ],
   "source": [
    "data.shape"
   ]
  },
  {
   "cell_type": "code",
   "execution_count": 4,
   "id": "729d8f1a",
   "metadata": {},
   "outputs": [],
   "source": [
    "#initial assessment\n",
    "# coloumns are arranged badly\n",
    "# at this context we are focsed on the reviews and their corresponding ratings, and we may not need to account for the reviewer's Nationality \n",
    "# we don't need the fields \"days_since_review\",\"lat\",\"lng\" --> we remove them from our dataframe\n",
    "# additional number of scoring is really vague value and also doesnt amoun to much for our analysis"
   ]
  },
  {
   "cell_type": "code",
   "execution_count": 5,
   "id": "1607cadc",
   "metadata": {},
   "outputs": [],
   "source": [
    "df = data.copy()"
   ]
  },
  {
   "cell_type": "code",
   "execution_count": 6,
   "id": "aa48121c",
   "metadata": {},
   "outputs": [],
   "source": [
    "df = df.drop(['Hotel_Address','Additional_Number_of_Scoring','Reviewer_Nationality','Reviewer_Score','days_since_review','lat','lng'], axis=1)"
   ]
  },
  {
   "cell_type": "code",
   "execution_count": 7,
   "id": "2d35ab67",
   "metadata": {},
   "outputs": [],
   "source": [
    "#data cleaning\n",
    "def header_names(df):\n",
    "    numerical = df.select_dtypes(np.number)\n",
    "    categorical = df.select_dtypes(object)\n",
    "    \n",
    "    numerical_df = numerical.rename(columns=str.lower)\n",
    "    numerical_df.columns = numerical_df.columns.str.replace(' ', '_')\n",
    "    numerical_df.drop_duplicates()\n",
    "    numerical_df = numerical_df.round()\n",
    "    numerical_df = numerical_df.astype(int)\n",
    "    categorical_df = categorical.rename(columns=str.lower) \n",
    "    categorical_df.columns = categorical_df.columns.str.replace(' ', '_')\n",
    "    categorical_df.drop_duplicates() \n",
    "       \n",
    "    return numerical_df,categorical_df"
   ]
  },
  {
   "cell_type": "code",
   "execution_count": 8,
   "id": "6358ffce",
   "metadata": {},
   "outputs": [],
   "source": [
    "num_df,cat_df = header_names(df)"
   ]
  },
  {
   "cell_type": "code",
   "execution_count": 9,
   "id": "7457269c",
   "metadata": {},
   "outputs": [],
   "source": [
    "# consider reviewer score, to the categorical and drop the rest \n",
    "review_df = num_df[['average_score']]"
   ]
  },
  {
   "cell_type": "code",
   "execution_count": 10,
   "id": "8270cefc",
   "metadata": {},
   "outputs": [],
   "source": [
    "final_df = pd.concat([cat_df, review_df],axis=1)"
   ]
  },
  {
   "cell_type": "code",
   "execution_count": 11,
   "id": "4c157fd1",
   "metadata": {},
   "outputs": [],
   "source": [
    "#column rearranging\n",
    "final_df = final_df[['hotel_name', 'negative_review', 'positive_review', 'tags','average_score']]"
   ]
  },
  {
   "cell_type": "code",
   "execution_count": 12,
   "id": "fa20f733",
   "metadata": {},
   "outputs": [],
   "source": [
    "#missing, nans and blank spaces elimination\n",
    "def missing_and_nulls(final_df):\n",
    "    display(final_df.isna().sum())\n",
    "    #final_df.columns[final_df.isna().any()].tolist()\n",
    "    print(final_df.isnull().nunique())"
   ]
  },
  {
   "cell_type": "code",
   "execution_count": 13,
   "id": "e33f65f1",
   "metadata": {},
   "outputs": [
    {
     "data": {
      "text/plain": [
       "hotel_name         0\n",
       "negative_review    0\n",
       "positive_review    0\n",
       "tags               0\n",
       "average_score      0\n",
       "dtype: int64"
      ]
     },
     "metadata": {},
     "output_type": "display_data"
    },
    {
     "name": "stdout",
     "output_type": "stream",
     "text": [
      "hotel_name         1\n",
      "negative_review    1\n",
      "positive_review    1\n",
      "tags               1\n",
      "average_score      1\n",
      "dtype: int64\n"
     ]
    }
   ],
   "source": [
    "missing_and_nulls(final_df)"
   ]
  },
  {
   "cell_type": "markdown",
   "id": "8aaa8850",
   "metadata": {},
   "source": [
    "#### Filtering the review"
   ]
  },
  {
   "cell_type": "markdown",
   "id": "a243a29e",
   "metadata": {},
   "source": [
    "#### We have around 515k of reviews but according to the data not all of them are \"helpful\". Let's do some filtering."
   ]
  },
  {
   "cell_type": "code",
   "execution_count": 14,
   "id": "063b5f6b",
   "metadata": {},
   "outputs": [],
   "source": [
    "#consider reviews those that are above 5\n",
    "final_df = final_df[final_df['average_score'] >= 6]"
   ]
  },
  {
   "cell_type": "code",
   "execution_count": 15,
   "id": "f894eaf6",
   "metadata": {},
   "outputs": [
    {
     "data": {
      "text/html": [
       "<div>\n",
       "<style scoped>\n",
       "    .dataframe tbody tr th:only-of-type {\n",
       "        vertical-align: middle;\n",
       "    }\n",
       "\n",
       "    .dataframe tbody tr th {\n",
       "        vertical-align: top;\n",
       "    }\n",
       "\n",
       "    .dataframe thead th {\n",
       "        text-align: right;\n",
       "    }\n",
       "</style>\n",
       "<table border=\"1\" class=\"dataframe\">\n",
       "  <thead>\n",
       "    <tr style=\"text-align: right;\">\n",
       "      <th></th>\n",
       "      <th>hotel_name</th>\n",
       "      <th>negative_review</th>\n",
       "      <th>positive_review</th>\n",
       "      <th>tags</th>\n",
       "      <th>average_score</th>\n",
       "    </tr>\n",
       "  </thead>\n",
       "  <tbody>\n",
       "    <tr>\n",
       "      <th>0</th>\n",
       "      <td>Hotel Arena</td>\n",
       "      <td>I am so angry that i made this post available...</td>\n",
       "      <td>Only the park outside of the hotel was beauti...</td>\n",
       "      <td>[' Leisure trip ', ' Couple ', ' Duplex Double...</td>\n",
       "      <td>8</td>\n",
       "    </tr>\n",
       "    <tr>\n",
       "      <th>1</th>\n",
       "      <td>Hotel Arena</td>\n",
       "      <td>No Negative</td>\n",
       "      <td>No real complaints the hotel was great great ...</td>\n",
       "      <td>[' Leisure trip ', ' Couple ', ' Duplex Double...</td>\n",
       "      <td>8</td>\n",
       "    </tr>\n",
       "    <tr>\n",
       "      <th>2</th>\n",
       "      <td>Hotel Arena</td>\n",
       "      <td>Rooms are nice but for elderly a bit difficul...</td>\n",
       "      <td>Location was good and staff were ok It is cut...</td>\n",
       "      <td>[' Leisure trip ', ' Family with young childre...</td>\n",
       "      <td>8</td>\n",
       "    </tr>\n",
       "    <tr>\n",
       "      <th>3</th>\n",
       "      <td>Hotel Arena</td>\n",
       "      <td>My room was dirty and I was afraid to walk ba...</td>\n",
       "      <td>Great location in nice surroundings the bar a...</td>\n",
       "      <td>[' Leisure trip ', ' Solo traveler ', ' Duplex...</td>\n",
       "      <td>8</td>\n",
       "    </tr>\n",
       "    <tr>\n",
       "      <th>4</th>\n",
       "      <td>Hotel Arena</td>\n",
       "      <td>You When I booked with your company on line y...</td>\n",
       "      <td>Amazing location and building Romantic setting</td>\n",
       "      <td>[' Leisure trip ', ' Couple ', ' Suite ', ' St...</td>\n",
       "      <td>8</td>\n",
       "    </tr>\n",
       "  </tbody>\n",
       "</table>\n",
       "</div>"
      ],
      "text/plain": [
       "    hotel_name                                    negative_review  \\\n",
       "0  Hotel Arena   I am so angry that i made this post available...   \n",
       "1  Hotel Arena                                        No Negative   \n",
       "2  Hotel Arena   Rooms are nice but for elderly a bit difficul...   \n",
       "3  Hotel Arena   My room was dirty and I was afraid to walk ba...   \n",
       "4  Hotel Arena   You When I booked with your company on line y...   \n",
       "\n",
       "                                     positive_review  \\\n",
       "0   Only the park outside of the hotel was beauti...   \n",
       "1   No real complaints the hotel was great great ...   \n",
       "2   Location was good and staff were ok It is cut...   \n",
       "3   Great location in nice surroundings the bar a...   \n",
       "4    Amazing location and building Romantic setting    \n",
       "\n",
       "                                                tags  average_score  \n",
       "0  [' Leisure trip ', ' Couple ', ' Duplex Double...              8  \n",
       "1  [' Leisure trip ', ' Couple ', ' Duplex Double...              8  \n",
       "2  [' Leisure trip ', ' Family with young childre...              8  \n",
       "3  [' Leisure trip ', ' Solo traveler ', ' Duplex...              8  \n",
       "4  [' Leisure trip ', ' Couple ', ' Suite ', ' St...              8  "
      ]
     },
     "execution_count": 15,
     "metadata": {},
     "output_type": "execute_result"
    }
   ],
   "source": [
    "final_df.head()"
   ]
  },
  {
   "cell_type": "code",
   "execution_count": 16,
   "id": "464d740b",
   "metadata": {},
   "outputs": [
    {
     "data": {
      "text/html": [
       "<div>\n",
       "<style scoped>\n",
       "    .dataframe tbody tr th:only-of-type {\n",
       "        vertical-align: middle;\n",
       "    }\n",
       "\n",
       "    .dataframe tbody tr th {\n",
       "        vertical-align: top;\n",
       "    }\n",
       "\n",
       "    .dataframe thead th {\n",
       "        text-align: right;\n",
       "    }\n",
       "</style>\n",
       "<table border=\"1\" class=\"dataframe\">\n",
       "  <thead>\n",
       "    <tr style=\"text-align: right;\">\n",
       "      <th></th>\n",
       "      <th>hotel_name</th>\n",
       "      <th>negative_review</th>\n",
       "      <th>positive_review</th>\n",
       "      <th>tags</th>\n",
       "      <th>average_score</th>\n",
       "    </tr>\n",
       "  </thead>\n",
       "  <tbody>\n",
       "    <tr>\n",
       "      <th>515733</th>\n",
       "      <td>Atlantis Hotel Vienna</td>\n",
       "      <td>no trolly or staff to help you take the lugga...</td>\n",
       "      <td>location</td>\n",
       "      <td>[' Leisure trip ', ' Family with older childre...</td>\n",
       "      <td>8</td>\n",
       "    </tr>\n",
       "    <tr>\n",
       "      <th>515734</th>\n",
       "      <td>Atlantis Hotel Vienna</td>\n",
       "      <td>The hotel looks like 3 but surely not 4</td>\n",
       "      <td>Breakfast was ok and we got earlier check in</td>\n",
       "      <td>[' Leisure trip ', ' Family with young childre...</td>\n",
       "      <td>8</td>\n",
       "    </tr>\n",
       "    <tr>\n",
       "      <th>515735</th>\n",
       "      <td>Atlantis Hotel Vienna</td>\n",
       "      <td>The ac was useless It was a hot week in vienn...</td>\n",
       "      <td>No Positive</td>\n",
       "      <td>[' Leisure trip ', ' Family with older childre...</td>\n",
       "      <td>8</td>\n",
       "    </tr>\n",
       "    <tr>\n",
       "      <th>515736</th>\n",
       "      <td>Atlantis Hotel Vienna</td>\n",
       "      <td>No Negative</td>\n",
       "      <td>The rooms are enormous and really comfortable...</td>\n",
       "      <td>[' Leisure trip ', ' Group ', ' Standard Tripl...</td>\n",
       "      <td>8</td>\n",
       "    </tr>\n",
       "    <tr>\n",
       "      <th>515737</th>\n",
       "      <td>Atlantis Hotel Vienna</td>\n",
       "      <td>I was in 3rd floor It didn t work Free Wife</td>\n",
       "      <td>staff was very kind</td>\n",
       "      <td>[' Leisure trip ', ' Family with young childre...</td>\n",
       "      <td>8</td>\n",
       "    </tr>\n",
       "  </tbody>\n",
       "</table>\n",
       "</div>"
      ],
      "text/plain": [
       "                   hotel_name  \\\n",
       "515733  Atlantis Hotel Vienna   \n",
       "515734  Atlantis Hotel Vienna   \n",
       "515735  Atlantis Hotel Vienna   \n",
       "515736  Atlantis Hotel Vienna   \n",
       "515737  Atlantis Hotel Vienna   \n",
       "\n",
       "                                          negative_review  \\\n",
       "515733   no trolly or staff to help you take the lugga...   \n",
       "515734           The hotel looks like 3 but surely not 4    \n",
       "515735   The ac was useless It was a hot week in vienn...   \n",
       "515736                                        No Negative   \n",
       "515737       I was in 3rd floor It didn t work Free Wife    \n",
       "\n",
       "                                          positive_review  \\\n",
       "515733                                           location   \n",
       "515734      Breakfast was ok and we got earlier check in    \n",
       "515735                                        No Positive   \n",
       "515736   The rooms are enormous and really comfortable...   \n",
       "515737                               staff was very kind    \n",
       "\n",
       "                                                     tags  average_score  \n",
       "515733  [' Leisure trip ', ' Family with older childre...              8  \n",
       "515734  [' Leisure trip ', ' Family with young childre...              8  \n",
       "515735  [' Leisure trip ', ' Family with older childre...              8  \n",
       "515736  [' Leisure trip ', ' Group ', ' Standard Tripl...              8  \n",
       "515737  [' Leisure trip ', ' Family with young childre...              8  "
      ]
     },
     "execution_count": 16,
     "metadata": {},
     "output_type": "execute_result"
    }
   ],
   "source": [
    "final_df.tail()"
   ]
  },
  {
   "cell_type": "code",
   "execution_count": 17,
   "id": "ba4375eb",
   "metadata": {},
   "outputs": [
    {
     "data": {
      "text/plain": [
       "\"\\nAssumptions:\\n1. more words in the positive and the negative coloumns the better, since they're almost legitimate\\n2. we will only consider the Hotels wih name of the place included for proper analysis, exclusing the address of the hotel\\n3. Analysing the first 3 hotels is enough considering time and effort and then make certain Business Conclusions about creating a proper customer experience and service design\\n\\n\""
      ]
     },
     "execution_count": 17,
     "metadata": {},
     "output_type": "execute_result"
    }
   ],
   "source": [
    "'''\n",
    "Assumptions:\n",
    "1. more words in the positive and the negative coloumns the better, since they're almost legitimate\n",
    "2. we will only consider the Hotels wih name of the place included for proper analysis, exclusing the address of the hotel\n",
    "3. Analysing the first 3 hotels is enough considering time and effort and then make certain Business Conclusions about creating a proper customer experience and service design\n",
    "\n",
    "'''"
   ]
  },
  {
   "cell_type": "markdown",
   "id": "3a981678",
   "metadata": {},
   "source": [
    "#### dropping the negative reviews with less words"
   ]
  },
  {
   "cell_type": "code",
   "execution_count": 18,
   "id": "8d99354f",
   "metadata": {},
   "outputs": [],
   "source": [
    "final_df['negative_length'] = list(map(lambda x: len(str(x).split()), final_df['negative_review']))"
   ]
  },
  {
   "cell_type": "code",
   "execution_count": 19,
   "id": "ca526f69",
   "metadata": {},
   "outputs": [],
   "source": [
    "final_df['positive_length'] = list(map(lambda x: len(str(x).split()), final_df['positive_review']))"
   ]
  },
  {
   "cell_type": "code",
   "execution_count": 20,
   "id": "93c7090d",
   "metadata": {},
   "outputs": [
    {
     "data": {
      "text/plain": [
       "<seaborn.axisgrid.FacetGrid at 0x26941e70160>"
      ]
     },
     "execution_count": 20,
     "metadata": {},
     "output_type": "execute_result"
    },
    {
     "data": {
      "image/png": "[encoded data removed]",
      "text/plain": [
       "<Figure size 360x360 with 1 Axes>"
      ]
     },
     "metadata": {
      "needs_background": "light"
     },
     "output_type": "display_data"
    }
   ],
   "source": [
    "sns.displot(final_df['negative_length'])"
   ]
  },
  {
   "cell_type": "code",
   "execution_count": 21,
   "id": "062eebb9",
   "metadata": {},
   "outputs": [
    {
     "data": {
      "text/plain": [
       "<seaborn.axisgrid.FacetGrid at 0x26941cc9a60>"
      ]
     },
     "execution_count": 21,
     "metadata": {},
     "output_type": "execute_result"
    },
    {
     "data": {
      "image/png": "[encoded data removed]",
      "text/plain": [
       "<Figure size 360x360 with 1 Axes>"
      ]
     },
     "metadata": {
      "needs_background": "light"
     },
     "output_type": "display_data"
    }
   ],
   "source": [
    "sns.displot(final_df['positive_length'])"
   ]
  },
  {
   "cell_type": "code",
   "execution_count": 22,
   "id": "88314a5a",
   "metadata": {},
   "outputs": [
    {
     "data": {
      "text/plain": [
       "count    515673.000000\n",
       "mean         16.466718\n",
       "std          21.463086\n",
       "min           0.000000\n",
       "25%           4.000000\n",
       "50%          10.000000\n",
       "75%          21.000000\n",
       "max         393.000000\n",
       "Name: positive_length, dtype: float64"
      ]
     },
     "execution_count": 22,
     "metadata": {},
     "output_type": "execute_result"
    }
   ],
   "source": [
    "final_df['positive_length'].describe()"
   ]
  },
  {
   "cell_type": "code",
   "execution_count": 23,
   "id": "cc919caf",
   "metadata": {},
   "outputs": [
    {
     "data": {
      "text/plain": [
       "count    515673.000000\n",
       "mean         17.846649\n",
       "std          29.050175\n",
       "min           0.000000\n",
       "25%           2.000000\n",
       "50%           7.000000\n",
       "75%          22.000000\n",
       "max         406.000000\n",
       "Name: negative_length, dtype: float64"
      ]
     },
     "execution_count": 23,
     "metadata": {},
     "output_type": "execute_result"
    }
   ],
   "source": [
    "final_df['negative_length'].describe()"
   ]
  },
  {
   "cell_type": "markdown",
   "id": "14fbbe5e",
   "metadata": {},
   "source": [
    "Intuitivelly, we can consider short reviews as totally useless because they are not properly justified and they can misslead the model.\n",
    "\n",
    "According to the median length, a reasonable guess will be to filter out reviews for which the length is smaller than the median."
   ]
  },
  {
   "cell_type": "code",
   "execution_count": 24,
   "id": "39c8a587",
   "metadata": {},
   "outputs": [],
   "source": [
    "positive_median = final_df['positive_length'].median()\n",
    "negative_median = final_df['negative_length'].median()"
   ]
  },
  {
   "cell_type": "code",
   "execution_count": 25,
   "id": "f8314154",
   "metadata": {},
   "outputs": [],
   "source": [
    "final_df = final_df[(final_df['positive_length'] > positive_median) & (final_df['negative_length'] > negative_median) ]"
   ]
  },
  {
   "cell_type": "code",
   "execution_count": 26,
   "id": "f1c5ea25",
   "metadata": {},
   "outputs": [
    {
     "data": {
      "text/plain": [
       "(126738, 7)"
      ]
     },
     "execution_count": 26,
     "metadata": {},
     "output_type": "execute_result"
    }
   ],
   "source": [
    "final_df.shape"
   ]
  },
  {
   "cell_type": "code",
   "execution_count": 27,
   "id": "f96d6bdf",
   "metadata": {},
   "outputs": [],
   "source": [
    "final_df.to_csv(\"cleaned_hotel_reviews.csv\", sep='\\t')"
   ]
  },
  {
   "cell_type": "markdown",
   "id": "a15a6977",
   "metadata": {},
   "source": [
    "code sources:\n",
    "* https://stackoverflow.com/questions/13851535/how-to-delete-rows-from-a-pandas-dataframe-based-on-a-conditional-expression\n",
    "* https://stackoverflow.com/questions/37084812/how-to-remove-decimal-points-in-pandas\n",
    "* https://stackoverflow.com/questions/21291259/convert-floats-to-ints-in-pandas    "
   ]
  }
 ],
 "metadata": {
  "kernelspec": {
   "display_name": "Python 3 (ipykernel)",
   "language": "python",
   "name": "python3"
  },
  "language_info": {
   "codemirror_mode": {
    "name": "ipython",
    "version": 3
   },
   "file_extension": ".py",
   "mimetype": "text/x-python",
   "name": "python",
   "nbconvert_exporter": "python",
   "pygments_lexer": "ipython3",
   "version": "3.9.12"
  }
 },
 "nbformat": 4,
 "nbformat_minor": 5
}
