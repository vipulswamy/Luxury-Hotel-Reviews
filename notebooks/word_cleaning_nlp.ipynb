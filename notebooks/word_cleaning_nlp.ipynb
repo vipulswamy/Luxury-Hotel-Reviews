{
  "cells": [
    {
      "cell_type": "markdown",
      "id": "2450bea5",
      "metadata": {
        "id": "2450bea5"
      },
      "source": [
        "#### Sentiment analysis on 5 star hotel reviews"
      ]
    },
    {
      "cell_type": "markdown",
      "id": "1782b10d",
      "metadata": {
        "id": "1782b10d"
      },
      "source": [
        "Here, we're going to try to predict the rating of a product review based on the text content.\n",
        "\n",
        "The main problem is that sentences are not numbers and the ML models only uses numbers. Therefore we need to cast them into datasets in which every sentence will have several columns filled of values.\n",
        "\n",
        "But wait..., how many columns? What they represent? ( in other words, what are going to mean the values in each column for each sentence )?\n",
        "\n",
        "A first approach will be to assing a binnary value to every possible word in the sentence. However, as the vocabulary in every language is huge, the amount of columns will be also huge. We need to decrease the amount of columns. Then we need to find a way to determine which words we will keep and which don't."
      ]
    },
    {
      "cell_type": "markdown",
      "id": "77ce06f5",
      "metadata": {
        "id": "77ce06f5"
      },
      "source": [
        "##### NOTE: we have already read,revised and cleane the data from raw_data_cleaning.ipynb file. please refer"
      ]
    },
    {
      "cell_type": "code",
      "execution_count": 1,
      "id": "29d1f10c",
      "metadata": {
        "id": "29d1f10c"
      },
      "outputs": [],
      "source": [
        "import numpy as np\n",
        "import pandas as pd\n",
        "from bs4 import BeautifulSoup\n",
        "import matplotlib.pyplot as plt\n",
        "import seaborn as sns\n",
        "import pprint\n",
        "import re"
      ]
    },
    {
      "cell_type": "code",
      "source": [
        "from google.colab import drive\n",
        "drive.mount('/content/drive')"
      ],
      "metadata": {
        "colab": {
          "base_uri": "https://localhost:8080/"
        },
        "id": "vHvmNlCb7KFT",
        "outputId": "02cca515-f679-4887-be9d-6ed054753340"
      },
      "id": "vHvmNlCb7KFT",
      "execution_count": 2,
      "outputs": [
        {
          "output_type": "stream",
          "name": "stdout",
          "text": [
            "Mounted at /content/drive\n"
          ]
        }
      ]
    },
    {
      "cell_type": "code",
      "source": [
        "import nltk\n",
        "nltk.download('punkt')\n",
        "nltk.download('stopwords')\n",
        "nltk.download('wordnet')\n",
        "nltk.download('tagsets')"
      ],
      "metadata": {
        "colab": {
          "base_uri": "https://localhost:8080/"
        },
        "id": "2T9p3Ubt7g8f",
        "outputId": "e0fad8c5-3ace-4c52-b382-13b0616d0058"
      },
      "id": "2T9p3Ubt7g8f",
      "execution_count": 3,
      "outputs": [
        {
          "output_type": "stream",
          "name": "stderr",
          "text": [
            "[nltk_data] Downloading package punkt to /root/nltk_data...\n",
            "[nltk_data]   Unzipping tokenizers/punkt.zip.\n",
            "[nltk_data] Downloading package stopwords to /root/nltk_data...\n",
            "[nltk_data]   Unzipping corpora/stopwords.zip.\n",
            "[nltk_data] Downloading package wordnet to /root/nltk_data...\n",
            "[nltk_data] Downloading package tagsets to /root/nltk_data...\n",
            "[nltk_data]   Unzipping help/tagsets.zip.\n"
          ]
        },
        {
          "output_type": "execute_result",
          "data": {
            "text/plain": [
              "True"
            ]
          },
          "metadata": {},
          "execution_count": 3
        }
      ]
    },
    {
      "cell_type": "code",
      "source": [
        "from sklearn.model_selection import train_test_split"
      ],
      "metadata": {
        "id": "urn9l--O7jw9"
      },
      "id": "urn9l--O7jw9",
      "execution_count": 4,
      "outputs": []
    },
    {
      "cell_type": "code",
      "source": [
        "data = pd.read_csv(\"/content/drive/MyDrive/iron_hack/week_9/clean/cleaned_hotel_reviews.csv\", error_bad_lines = False, sep = \"\\t\")\n",
        "data.head()"
      ],
      "metadata": {
        "colab": {
          "base_uri": "https://localhost:8080/",
          "height": 444
        },
        "id": "88beIq0b7mH9",
        "outputId": "b0002a03-29aa-4512-8021-8459b7de758b"
      },
      "id": "88beIq0b7mH9",
      "execution_count": 10,
      "outputs": [
        {
          "output_type": "stream",
          "name": "stderr",
          "text": [
            "/usr/local/lib/python3.7/dist-packages/IPython/core/interactiveshell.py:3326: FutureWarning: The error_bad_lines argument has been deprecated and will be removed in a future version.\n",
            "\n",
            "\n",
            "  exec(code_obj, self.user_global_ns, self.user_ns)\n"
          ]
        },
        {
          "output_type": "execute_result",
          "data": {
            "text/plain": [
              "   Unnamed: 0   hotel_name                                    negative_review  \\\n",
              "0           2  Hotel Arena   Rooms are nice but for elderly a bit difficul...   \n",
              "1           3  Hotel Arena   My room was dirty and I was afraid to walk ba...   \n",
              "2           5  Hotel Arena   Backyard of the hotel is total mess shouldn t...   \n",
              "3           6  Hotel Arena   Cleaner did not change our sheet and duvet ev...   \n",
              "4           7  Hotel Arena   Apart from the price for the brekfast Everyth...   \n",
              "\n",
              "                                     positive_review  \\\n",
              "0   Location was good and staff were ok It is cut...   \n",
              "1   Great location in nice surroundings the bar a...   \n",
              "2   Good restaurant with modern design great chil...   \n",
              "3   The room is spacious and bright The hotel is ...   \n",
              "4   Good location Set in a lovely park friendly s...   \n",
              "\n",
              "                                                tags  average_score  \\\n",
              "0  [' Leisure trip ', ' Family with young childre...              8   \n",
              "1  [' Leisure trip ', ' Solo traveler ', ' Duplex...              8   \n",
              "2  [' Leisure trip ', ' Group ', ' Duplex Double ...              8   \n",
              "3  [' Leisure trip ', ' Group ', ' Duplex Twin Ro...              8   \n",
              "4  [' Leisure trip ', ' Couple ', ' Duplex Double...              8   \n",
              "\n",
              "   negative_length  positive_length  \n",
              "0               40               19  \n",
              "1              208               24  \n",
              "2               15               18  \n",
              "3               31               16  \n",
              "4               10               17  "
            ],
            "text/html": [
              "\n",
              "  <div id=\"df-f995f162-36c9-42f4-8979-9c974c1184e1\">\n",
              "    <div class=\"colab-df-container\">\n",
              "      <div>\n",
              "<style scoped>\n",
              "    .dataframe tbody tr th:only-of-type {\n",
              "        vertical-align: middle;\n",
              "    }\n",
              "\n",
              "    .dataframe tbody tr th {\n",
              "        vertical-align: top;\n",
              "    }\n",
              "\n",
              "    .dataframe thead th {\n",
              "        text-align: right;\n",
              "    }\n",
              "</style>\n",
              "<table border=\"1\" class=\"dataframe\">\n",
              "  <thead>\n",
              "    <tr style=\"text-align: right;\">\n",
              "      <th></th>\n",
              "      <th>Unnamed: 0</th>\n",
              "      <th>hotel_name</th>\n",
              "      <th>negative_review</th>\n",
              "      <th>positive_review</th>\n",
              "      <th>tags</th>\n",
              "      <th>average_score</th>\n",
              "      <th>negative_length</th>\n",
              "      <th>positive_length</th>\n",
              "    </tr>\n",
              "  </thead>\n",
              "  <tbody>\n",
              "    <tr>\n",
              "      <th>0</th>\n",
              "      <td>2</td>\n",
              "      <td>Hotel Arena</td>\n",
              "      <td>Rooms are nice but for elderly a bit difficul...</td>\n",
              "      <td>Location was good and staff were ok It is cut...</td>\n",
              "      <td>[' Leisure trip ', ' Family with young childre...</td>\n",
              "      <td>8</td>\n",
              "      <td>40</td>\n",
              "      <td>19</td>\n",
              "    </tr>\n",
              "    <tr>\n",
              "      <th>1</th>\n",
              "      <td>3</td>\n",
              "      <td>Hotel Arena</td>\n",
              "      <td>My room was dirty and I was afraid to walk ba...</td>\n",
              "      <td>Great location in nice surroundings the bar a...</td>\n",
              "      <td>[' Leisure trip ', ' Solo traveler ', ' Duplex...</td>\n",
              "      <td>8</td>\n",
              "      <td>208</td>\n",
              "      <td>24</td>\n",
              "    </tr>\n",
              "    <tr>\n",
              "      <th>2</th>\n",
              "      <td>5</td>\n",
              "      <td>Hotel Arena</td>\n",
              "      <td>Backyard of the hotel is total mess shouldn t...</td>\n",
              "      <td>Good restaurant with modern design great chil...</td>\n",
              "      <td>[' Leisure trip ', ' Group ', ' Duplex Double ...</td>\n",
              "      <td>8</td>\n",
              "      <td>15</td>\n",
              "      <td>18</td>\n",
              "    </tr>\n",
              "    <tr>\n",
              "      <th>3</th>\n",
              "      <td>6</td>\n",
              "      <td>Hotel Arena</td>\n",
              "      <td>Cleaner did not change our sheet and duvet ev...</td>\n",
              "      <td>The room is spacious and bright The hotel is ...</td>\n",
              "      <td>[' Leisure trip ', ' Group ', ' Duplex Twin Ro...</td>\n",
              "      <td>8</td>\n",
              "      <td>31</td>\n",
              "      <td>16</td>\n",
              "    </tr>\n",
              "    <tr>\n",
              "      <th>4</th>\n",
              "      <td>7</td>\n",
              "      <td>Hotel Arena</td>\n",
              "      <td>Apart from the price for the brekfast Everyth...</td>\n",
              "      <td>Good location Set in a lovely park friendly s...</td>\n",
              "      <td>[' Leisure trip ', ' Couple ', ' Duplex Double...</td>\n",
              "      <td>8</td>\n",
              "      <td>10</td>\n",
              "      <td>17</td>\n",
              "    </tr>\n",
              "  </tbody>\n",
              "</table>\n",
              "</div>\n",
              "      <button class=\"colab-df-convert\" onclick=\"convertToInteractive('df-f995f162-36c9-42f4-8979-9c974c1184e1')\"\n",
              "              title=\"Convert this dataframe to an interactive table.\"\n",
              "              style=\"display:none;\">\n",
              "        \n",
              "  <svg xmlns=\"http://www.w3.org/2000/svg\" height=\"24px\"viewBox=\"0 0 24 24\"\n",
              "       width=\"24px\">\n",
              "    <path d=\"M0 0h24v24H0V0z\" fill=\"none\"/>\n",
              "    <path d=\"M18.56 5.44l.94 2.06.94-2.06 2.06-.94-2.06-.94-.94-2.06-.94 2.06-2.06.94zm-11 1L8.5 8.5l.94-2.06 2.06-.94-2.06-.94L8.5 2.5l-.94 2.06-2.06.94zm10 10l.94 2.06.94-2.06 2.06-.94-2.06-.94-.94-2.06-.94 2.06-2.06.94z\"/><path d=\"M17.41 7.96l-1.37-1.37c-.4-.4-.92-.59-1.43-.59-.52 0-1.04.2-1.43.59L10.3 9.45l-7.72 7.72c-.78.78-.78 2.05 0 2.83L4 21.41c.39.39.9.59 1.41.59.51 0 1.02-.2 1.41-.59l7.78-7.78 2.81-2.81c.8-.78.8-2.07 0-2.86zM5.41 20L4 18.59l7.72-7.72 1.47 1.35L5.41 20z\"/>\n",
              "  </svg>\n",
              "      </button>\n",
              "      \n",
              "  <style>\n",
              "    .colab-df-container {\n",
              "      display:flex;\n",
              "      flex-wrap:wrap;\n",
              "      gap: 12px;\n",
              "    }\n",
              "\n",
              "    .colab-df-convert {\n",
              "      background-color: #E8F0FE;\n",
              "      border: none;\n",
              "      border-radius: 50%;\n",
              "      cursor: pointer;\n",
              "      display: none;\n",
              "      fill: #1967D2;\n",
              "      height: 32px;\n",
              "      padding: 0 0 0 0;\n",
              "      width: 32px;\n",
              "    }\n",
              "\n",
              "    .colab-df-convert:hover {\n",
              "      background-color: #E2EBFA;\n",
              "      box-shadow: 0px 1px 2px rgba(60, 64, 67, 0.3), 0px 1px 3px 1px rgba(60, 64, 67, 0.15);\n",
              "      fill: #174EA6;\n",
              "    }\n",
              "\n",
              "    [theme=dark] .colab-df-convert {\n",
              "      background-color: #3B4455;\n",
              "      fill: #D2E3FC;\n",
              "    }\n",
              "\n",
              "    [theme=dark] .colab-df-convert:hover {\n",
              "      background-color: #434B5C;\n",
              "      box-shadow: 0px 1px 3px 1px rgba(0, 0, 0, 0.15);\n",
              "      filter: drop-shadow(0px 1px 2px rgba(0, 0, 0, 0.3));\n",
              "      fill: #FFFFFF;\n",
              "    }\n",
              "  </style>\n",
              "\n",
              "      <script>\n",
              "        const buttonEl =\n",
              "          document.querySelector('#df-f995f162-36c9-42f4-8979-9c974c1184e1 button.colab-df-convert');\n",
              "        buttonEl.style.display =\n",
              "          google.colab.kernel.accessAllowed ? 'block' : 'none';\n",
              "\n",
              "        async function convertToInteractive(key) {\n",
              "          const element = document.querySelector('#df-f995f162-36c9-42f4-8979-9c974c1184e1');\n",
              "          const dataTable =\n",
              "            await google.colab.kernel.invokeFunction('convertToInteractive',\n",
              "                                                     [key], {});\n",
              "          if (!dataTable) return;\n",
              "\n",
              "          const docLinkHtml = 'Like what you see? Visit the ' +\n",
              "            '<a target=\"_blank\" href=https://colab.research.google.com/notebooks/data_table.ipynb>data table notebook</a>'\n",
              "            + ' to learn more about interactive tables.';\n",
              "          element.innerHTML = '';\n",
              "          dataTable['output_type'] = 'display_data';\n",
              "          await google.colab.output.renderOutput(dataTable, element);\n",
              "          const docLink = document.createElement('div');\n",
              "          docLink.innerHTML = docLinkHtml;\n",
              "          element.appendChild(docLink);\n",
              "        }\n",
              "      </script>\n",
              "    </div>\n",
              "  </div>\n",
              "  "
            ]
          },
          "metadata": {},
          "execution_count": 10
        }
      ]
    }
  ],
  "metadata": {
    "kernelspec": {
      "display_name": "Python 3 (ipykernel)",
      "language": "python",
      "name": "python3"
    },
    "language_info": {
      "codemirror_mode": {
        "name": "ipython",
        "version": 3
      },
      "file_extension": ".py",
      "mimetype": "text/x-python",
      "name": "python",
      "nbconvert_exporter": "python",
      "pygments_lexer": "ipython3",
      "version": "3.9.12"
    },
    "colab": {
      "provenance": []
    }
  },
  "nbformat": 4,
  "nbformat_minor": 5
}