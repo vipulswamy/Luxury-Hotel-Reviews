{
 "cells": [
  {
   "cell_type": "markdown",
   "id": "2450bea5",
   "metadata": {},
   "source": [
    "#### Sentiment analysis on 5 star hotel reviews"
   ]
  },
  {
   "cell_type": "markdown",
   "id": "1782b10d",
   "metadata": {},
   "source": [
    "Here, we're going to try to predict the rating of a product review based on the text content.\n",
    "\n",
    "The main problem is that sentences are not numbers and the ML models only uses numbers. Therefore we need to cast them into datasets in which every sentence will have several columns filled of values.\n",
    "\n",
    "But wait..., how many columns? What they represent? ( in other words, what are going to mean the values in each column for each sentence )?\n",
    "\n",
    "A first approach will be to assing a binnary value to every possible word in the sentence. However, as the vocabulary in every language is huge, the amount of columns will be also huge. We need to decrease the amount of columns. Then we need to find a way to determine which words we will keep and which don't."
   ]
  },
  {
   "cell_type": "markdown",
   "id": "77ce06f5",
   "metadata": {},
   "source": [
    "##### NOTE: we have already read,revised and cleane the data from raw_data_cleaning.ipynb file. please refer"
   ]
  },
  {
   "cell_type": "code",
   "execution_count": null,
   "id": "29d1f10c",
   "metadata": {},
   "outputs": [],
   "source": []
  }
 ],
 "metadata": {
  "kernelspec": {
   "display_name": "Python 3 (ipykernel)",
   "language": "python",
   "name": "python3"
  },
  "language_info": {
   "codemirror_mode": {
    "name": "ipython",
    "version": 3
   },
   "file_extension": ".py",
   "mimetype": "text/x-python",
   "name": "python",
   "nbconvert_exporter": "python",
   "pygments_lexer": "ipython3",
   "version": "3.9.12"
  }
 },
 "nbformat": 4,
 "nbformat_minor": 5
}
